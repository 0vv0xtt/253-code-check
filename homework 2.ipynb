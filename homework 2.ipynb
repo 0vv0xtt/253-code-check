{
 "cells": [
  {
   "cell_type": "code",
   "execution_count": 27,
   "metadata": {},
   "outputs": [],
   "source": [
    "#Vivian （ry973) Yin's Homework 2 code\n",
    "#importing modules\n",
    "import numpy as np\n",
    "import math\n",
    "import matplotlib.pyplot as plt\n",
    "from numpy.linalg import inv, norm\n"
   ]
  },
  {
   "cell_type": "code",
   "execution_count": 35,
   "metadata": {},
   "outputs": [
    {
     "name": "stdout",
     "output_type": "stream",
     "text": [
      "0.33249647143278727 0.6642004699904484 0.2335793404086537\n"
     ]
    }
   ],
   "source": []
  },
  {
   "cell_type": "markdown",
   "metadata": {},
   "source": [
    "Minimize $$\\frac{1}{N} \\sum_{i=1}^{N}(y_i -f(x_i,c1,c2,c3))^2$$ \n",
    "\n",
    "Where: $$f(x,c_1,c_2,c_3) = c_1+c_2e^{c_3x}$$"
   ]
  },
  {
   "cell_type": "code",
   "execution_count": 116,
   "metadata": {},
   "outputs": [
    {
     "name": "stdout",
     "output_type": "stream",
     "text": [
      "[0.4319548925361133, 0.612104927478827, 0.6407250220332965]\n"
     ]
    },
    {
     "data": {
      "text/plain": [
       "Text(0, 0.5, 'y')"
      ]
     },
     "execution_count": 116,
     "metadata": {},
     "output_type": "execute_result"
    },
    {
     "data": {
      "image/png": "[encoded data removed]",
      "text/plain": [
       "<Figure size 576x576 with 1 Axes>"
      ]
     },
     "metadata": {
      "needs_background": "light"
     },
     "output_type": "display_data"
    }
   ],
   "source": [
    "c = np.random.rand(3)\n",
    "#N = 100 #set an number for N, N can be other numbers\n",
    "#alpha = .1\n",
    "\n",
    "#noise = [0.1,0.04]\n",
    "c = np.random.rand(3)\n",
    "c1 = c[0]\n",
    "c2 = c[1]\n",
    "c3 = c[2]\n",
    "#coef = [c1,c2,c3]\n",
    "xi=np.linspace(-1,1,100)\n",
    "print (coef)\n",
    "def func (x,c1,c2,c3): #defining the function f\n",
    "    f=  c1 + c2*math.e**(c3*x) \n",
    "    return f\n",
    "\n",
    "\n",
    "y = func(xi,*c) #from recitation\n",
    "\n",
    "plt.figure (figsize = (8,8))\n",
    "plt.axis ('equal')\n",
    "#find a color for the plot\n",
    "plt.scatter (x,y, s=2, color = 'purple', marker = \".\" )#s is the size, c is the colour, marker is the shape of the marker\n",
    "plt.title (\"f(x,c1,c2,c3)\")\n",
    "plt.xlabel (\"x\")\n",
    "plt.ylabel (\"y\")"
   ]
  },
  {
   "cell_type": "markdown",
   "metadata": {},
   "source": [
    "Let $c = (a, b)^\\top$ be the vector of parameters and recall Gauss Newton:\n",
    "$$ c_{n+1} = c_n + \\left( Df(c_n)^\\top Df(c_n) \\right)^{-1}Df(c_n)^\\top \\left( y - f(c_n) \\right) $$\n",
    "\n",
    "With $N$ number of observations $y$, what is the correct size of the $Df(c_n)$ matrix? Then, what is the correct size of this matrix $\\left( Df(c_n)^\\top Df(c_n) \\right)^{-1}$?  \n",
    "\n",
    "Let N = 100 as before, program Gauss-Newton method to fit the true observations (the ones we found in the line above).\n",
    "\n",
    "What are the \"ingredients\" we need for Gauss-Newton?\n",
    "   - Jacobian matrix Df(c_n)\n",
    "   - Initial point, in our case is a point $c_0 = (a_0, b_0)^\\top$\n",
    "   - Some points x (of size N) and some observations y (of size N as well)"
   ]
  },
  {
   "cell_type": "code",
   "execution_count": 117,
   "metadata": {},
   "outputs": [
    {
     "ename": "TypeError",
     "evalue": "object of type 'int' has no len()",
     "output_type": "error",
     "traceback": [
      "\u001b[1;31m---------------------------------------------------------------------------\u001b[0m",
      "\u001b[1;31mTypeError\u001b[0m                                 Traceback (most recent call last)",
      "\u001b[1;32m~\\AppData\\Local\\Temp/ipykernel_28480/184460270.py\u001b[0m in \u001b[0;36m<module>\u001b[1;34m\u001b[0m\n\u001b[0;32m     27\u001b[0m   \u001b[1;32mreturn\u001b[0m \u001b[0mc\u001b[0m\u001b[1;33m,\u001b[0m \u001b[0mi\u001b[0m\u001b[1;33m,\u001b[0m \u001b[0mres\u001b[0m\u001b[1;33m,\u001b[0m \u001b[0mres_norms\u001b[0m\u001b[1;33m\u001b[0m\u001b[1;33m\u001b[0m\u001b[0m\n\u001b[0;32m     28\u001b[0m \u001b[0mc0\u001b[0m \u001b[1;33m=\u001b[0m \u001b[0mnp\u001b[0m\u001b[1;33m.\u001b[0m\u001b[0mrandom\u001b[0m\u001b[1;33m.\u001b[0m\u001b[0mrandint\u001b[0m\u001b[1;33m(\u001b[0m\u001b[1;36m3\u001b[0m\u001b[1;33m)\u001b[0m\u001b[1;33m\u001b[0m\u001b[1;33m\u001b[0m\u001b[0m\n\u001b[1;32m---> 29\u001b[1;33m \u001b[0mc\u001b[0m\u001b[1;33m,\u001b[0m\u001b[0mi\u001b[0m\u001b[1;33m,\u001b[0m \u001b[0mres\u001b[0m\u001b[1;33m,\u001b[0m \u001b[0mres_norms\u001b[0m \u001b[1;33m=\u001b[0m \u001b[0mGaussNewton\u001b[0m\u001b[1;33m(\u001b[0m\u001b[0mc0\u001b[0m\u001b[1;33m,\u001b[0m\u001b[0mxi\u001b[0m\u001b[1;33m,\u001b[0m\u001b[0my\u001b[0m\u001b[1;33m)\u001b[0m\u001b[1;33m\u001b[0m\u001b[1;33m\u001b[0m\u001b[0m\n\u001b[0m\u001b[0;32m     30\u001b[0m \u001b[1;31m#plt.figure ( figsize = (5,5))\u001b[0m\u001b[1;33m\u001b[0m\u001b[1;33m\u001b[0m\u001b[0m\n\u001b[0;32m     31\u001b[0m \u001b[1;31m#plt.plot (range(1,i), res_norms)\u001b[0m\u001b[1;33m\u001b[0m\u001b[1;33m\u001b[0m\u001b[0m\n",
      "\u001b[1;32m~\\AppData\\Local\\Temp/ipykernel_28480/184460270.py\u001b[0m in \u001b[0;36mGaussNewton\u001b[1;34m(c0, x, y)\u001b[0m\n\u001b[0;32m     10\u001b[0m   \u001b[0mmaxIter\u001b[0m \u001b[1;33m=\u001b[0m \u001b[1;36m1000\u001b[0m \u001b[1;31m#max 1000 iterations\u001b[0m\u001b[1;33m\u001b[0m\u001b[1;33m\u001b[0m\u001b[0m\n\u001b[0;32m     11\u001b[0m   \u001b[0mtol\u001b[0m \u001b[1;33m=\u001b[0m \u001b[1;36m1e-2\u001b[0m \u001b[1;31m#\u001b[0m\u001b[1;33m\u001b[0m\u001b[1;33m\u001b[0m\u001b[0m\n\u001b[1;32m---> 12\u001b[1;33m   \u001b[0mDf\u001b[0m \u001b[1;33m=\u001b[0m \u001b[0mcomputeDf\u001b[0m\u001b[1;33m(\u001b[0m\u001b[0mc0\u001b[0m\u001b[1;33m,\u001b[0m\u001b[0mx\u001b[0m\u001b[1;33m)\u001b[0m \u001b[1;31m#Jacobian at c0\u001b[0m\u001b[1;33m\u001b[0m\u001b[1;33m\u001b[0m\u001b[0m\n\u001b[0m\u001b[0;32m     13\u001b[0m   \u001b[0mf\u001b[0m \u001b[1;33m=\u001b[0m \u001b[0mfunc\u001b[0m\u001b[1;33m(\u001b[0m\u001b[0mx\u001b[0m\u001b[1;33m,\u001b[0m \u001b[1;33m*\u001b[0m\u001b[0mc0\u001b[0m\u001b[1;33m.\u001b[0m\u001b[0mT\u001b[0m\u001b[1;33m)\u001b[0m\u001b[1;33m\u001b[0m\u001b[1;33m\u001b[0m\u001b[0m\n\u001b[0;32m     14\u001b[0m   \u001b[0mres\u001b[0m \u001b[1;33m=\u001b[0m \u001b[0my\u001b[0m\u001b[1;33m-\u001b[0m\u001b[0mf\u001b[0m \u001b[1;31m#residual from starting point\u001b[0m\u001b[1;33m\u001b[0m\u001b[1;33m\u001b[0m\u001b[0m\n",
      "\u001b[1;32m~\\AppData\\Local\\Temp/ipykernel_28480/184460270.py\u001b[0m in \u001b[0;36mcomputeDf\u001b[1;34m(x, c)\u001b[0m\n\u001b[0;32m      1\u001b[0m \u001b[1;31m#this part is mainly taken from the recitation\u001b[0m\u001b[1;33m\u001b[0m\u001b[1;33m\u001b[0m\u001b[0m\n\u001b[0;32m      2\u001b[0m \u001b[1;32mdef\u001b[0m \u001b[0mcomputeDf\u001b[0m\u001b[1;33m(\u001b[0m\u001b[0mx\u001b[0m\u001b[1;33m,\u001b[0m\u001b[0mc\u001b[0m\u001b[1;33m)\u001b[0m\u001b[1;33m:\u001b[0m\u001b[1;33m\u001b[0m\u001b[1;33m\u001b[0m\u001b[0m\n\u001b[1;32m----> 3\u001b[1;33m     \u001b[0mDf\u001b[0m \u001b[1;33m=\u001b[0m \u001b[0mnp\u001b[0m\u001b[1;33m.\u001b[0m\u001b[0mzeros\u001b[0m \u001b[1;33m(\u001b[0m\u001b[1;33m(\u001b[0m\u001b[0mlen\u001b[0m\u001b[1;33m(\u001b[0m\u001b[0mx\u001b[0m\u001b[1;33m)\u001b[0m\u001b[1;33m,\u001b[0m\u001b[0mlen\u001b[0m\u001b[1;33m(\u001b[0m\u001b[0mc\u001b[0m\u001b[1;33m)\u001b[0m\u001b[1;33m)\u001b[0m\u001b[1;33m)\u001b[0m \u001b[1;31m# initializing a matrix full of zeros\u001b[0m\u001b[1;33m\u001b[0m\u001b[1;33m\u001b[0m\u001b[0m\n\u001b[0m\u001b[0;32m      4\u001b[0m     \u001b[0mDf\u001b[0m\u001b[1;33m[\u001b[0m\u001b[1;33m:\u001b[0m\u001b[1;33m,\u001b[0m\u001b[1;36m0\u001b[0m\u001b[1;33m]\u001b[0m \u001b[1;33m=\u001b[0m \u001b[1;36m1\u001b[0m \u001b[1;31m# partial with respect to c1\u001b[0m\u001b[1;33m\u001b[0m\u001b[1;33m\u001b[0m\u001b[0m\n\u001b[0;32m      5\u001b[0m     \u001b[0mDf\u001b[0m\u001b[1;33m[\u001b[0m\u001b[1;33m:\u001b[0m\u001b[1;33m,\u001b[0m\u001b[1;36m1\u001b[0m\u001b[1;33m]\u001b[0m \u001b[1;33m=\u001b[0m \u001b[0mnp\u001b[0m\u001b[1;33m.\u001b[0m\u001b[0mexp\u001b[0m \u001b[1;33m(\u001b[0m\u001b[0mc\u001b[0m\u001b[1;33m[\u001b[0m\u001b[1;36m2\u001b[0m\u001b[1;33m]\u001b[0m\u001b[1;33m*\u001b[0m\u001b[0mx\u001b[0m\u001b[1;33m)\u001b[0m  \u001b[1;31m# partial with respect to c2\u001b[0m\u001b[1;33m\u001b[0m\u001b[1;33m\u001b[0m\u001b[0m\n",
      "\u001b[1;31mTypeError\u001b[0m: object of type 'int' has no len()"
     ]
    }
   ],
   "source": [
    "#this part is mainly taken from the recitation\n",
    "def computeDf(x,c):\n",
    "    Df = np.zeros ((len(x),len(c))) # initializing a matrix full of zeros \n",
    "    Df[:,0] = 1 # partial with respect to c1 \n",
    "    Df[:,1] = np.exp (c[2]*x)  # partial with respect to c2\n",
    "    Df[:,2] = c[1]*np.exp(c[2]*x) # partial with respect to c3\n",
    "    return Df\n",
    "    \n",
    "def GaussNewton(c0,x,y): #c0 is the starting point, \n",
    "  maxIter = 1000 #max 1000 iterations\n",
    "  tol = 1e-2 #\n",
    "  Df = computeDf(c0,x) #Jacobian at c0\n",
    "  f = func(x, *c0.T)\n",
    "  res = y-f #residual from starting point\n",
    "  i=1\n",
    "  c=c0\n",
    "  res_norms = []\n",
    "  while (norm (np.matmul(Df.T,res))>tol and i<maxIter):\n",
    "  #we want to iterate\n",
    "    c = c+np.matmul(inv(np.matmul(Df.T,Df)), np.matmul(Df.T,np.subtract(y,f)))\n",
    "    # need to update rest of the variables\n",
    "    Df = computeDf(c,x)\n",
    "    f = func (x, *c.T)\n",
    "    res = y-f\n",
    "    i+= 1\n",
    "    res_norms += [norm(res)] \n",
    "  return c, i, res, res_norms\n",
    "c0 = np.random.randint(3)\n",
    "c,i, res, res_norms = GaussNewton(c0,xi,y)\n",
    "#plt.figure ( figsize = (5,5))\n",
    "#plt.plot (range(1,i), res_norms) \n"
   ]
  },
  {
   "cell_type": "code",
   "execution_count": null,
   "metadata": {},
   "outputs": [],
   "source": []
  },
  {
   "cell_type": "code",
   "execution_count": null,
   "metadata": {},
   "outputs": [],
   "source": []
  }
 ],
 "metadata": {
  "kernelspec": {
   "display_name": "Python 3.9.7 ('base')",
   "language": "python",
   "name": "python3"
  },
  "language_info": {
   "codemirror_mode": {
    "name": "ipython",
    "version": 3
   },
   "file_extension": ".py",
   "mimetype": "text/x-python",
   "name": "python",
   "nbconvert_exporter": "python",
   "pygments_lexer": "ipython3",
   "version": "3.9.7"
  },
  "orig_nbformat": 4,
  "vscode": {
   "interpreter": {
    "hash": "4df92821a9e9fa22a53fa81229ff055d4b588cc4a84ea1ec2f897a8e3cb60ad6"
   }
  }
 },
 "nbformat": 4,
 "nbformat_minor": 2
}
